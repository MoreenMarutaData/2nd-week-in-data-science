{
  "nbformat": 4,
  "nbformat_minor": 0,
  "metadata": {
    "colab": {
      "name": "Moringa_Data_Science_Prep_W2_Independent_Project_2021_06_Moreen_Mugambi_Python_Notebook.ipynb",
      "provenance": [],
      "authorship_tag": "ABX9TyNCkYFusyG7Z8qmJUIq1+HN",
      "include_colab_link": true
    },
    "kernelspec": {
      "name": "python3",
      "display_name": "Python 3"
    },
    "language_info": {
      "name": "python"
    }
  },
  "cells": [
    {
      "cell_type": "markdown",
      "metadata": {
        "id": "view-in-github",
        "colab_type": "text"
      },
      "source": [
        "<a href=\"https://colab.research.google.com/github/MoreenMarutaData/2nd-week-in-data-science/blob/main/CONTACT%20BOOK%20.ipynb\" target=\"_parent\"><img src=\"https://colab.research.google.com/assets/colab-badge.svg\" alt=\"Open In Colab\"/></a>"
      ]
    },
    {
      "cell_type": "code",
      "metadata": {
        "colab": {
          "base_uri": "https://localhost:8080/"
        },
        "id": "h8D4ryipuQFm",
        "outputId": "5322d446-f228-4a26-bd4a-cea51360cd2b"
      },
      "source": [
        "# Initial dictionary\n",
        "\n",
        "contact_book = {'Moreen' : 'moreen@moringa.org',\n",
        "        'Parul' : 'parul@moringa.org',\n",
        "\n",
        "        'Thomas' : 'thomas@moringa.org',\n",
        "\n",
        "        'Ashley' : 'ashley@moringa.org',\n",
        "\n",
        "        'Kellen' : 'kellen@moringa.org',\n",
        "\n",
        "        'June' : 'june@moringa.org',\n",
        "\n",
        "        'Joseph' : 'joe@moringa.org',\n",
        "\n",
        "        'Lillian' : 'lillian@moringa.org',\n",
        "\n",
        "        'Arnold' : 'arnold@moringa.org' \n",
        "}\n",
        "print(contact_book)"
      ],
      "execution_count": 13,
      "outputs": [
        {
          "output_type": "stream",
          "name": "stdout",
          "text": [
            "{'Moreen': 'moreen@moringa.org', 'Parul': 'parul@moringa.org', 'Thomas': 'thomas@moringa.org', 'Ashley': 'ashley@moringa.org', 'Kellen': 'kellen@moringa.org', 'June': 'june@moringa.org', 'Joseph': 'joe@moringa.org', 'Lillian': 'lillian@moringa.org', 'Arnold': 'arnold@moringa.org'}\n"
          ]
        }
      ]
    },
    {
      "cell_type": "code",
      "metadata": {
        "colab": {
          "base_uri": "https://localhost:8080/"
        },
        "id": "CzJB1KQC0tj7",
        "outputId": "c01bb5ff-b4db-494f-dde4-99eb736d40ee"
      },
      "source": [
        "# Delete a contact from the dictionary when the user specifies the its key\n",
        "# Write a code for entering the key\n",
        "\n",
        "krr = str (input(\" Which contact did you want to delete? \"))\n",
        "\n",
        "if krr in contact_book:\n",
        "  del contact_book[krr]\n",
        "#print(contact_book)\n",
        "else:\n",
        " print(\" Please enter a valid contact.\")\n",
        "\n",
        "print(contact_book)\n"
      ],
      "execution_count": 14,
      "outputs": [
        {
          "output_type": "stream",
          "name": "stdout",
          "text": [
            " Which contact did you want to delete? moh\n",
            " Please enter a valid contact.\n",
            "{'Moreen': 'moreen@moringa.org', 'Parul': 'parul@moringa.org', 'Thomas': 'thomas@moringa.org', 'Ashley': 'ashley@moringa.org', 'Kellen': 'kellen@moringa.org', 'June': 'june@moringa.org', 'Joseph': 'joe@moringa.org', 'Lillian': 'lillian@moringa.org', 'Arnold': 'arnold@moringa.org'}\n"
          ]
        }
      ]
    },
    {
      "cell_type": "code",
      "metadata": {
        "colab": {
          "base_uri": "https://localhost:8080/"
        },
        "id": "4LGuZ-dp_mfz",
        "outputId": "7f6cbc32-5f75-40fa-934c-b95f13dcfc61"
      },
      "source": [
        "# Print out the first 2 contacts. \n",
        "\n",
        "first_two = list(contact_book) [:2]\n",
        "print(first_two)"
      ],
      "execution_count": 15,
      "outputs": [
        {
          "output_type": "stream",
          "name": "stdout",
          "text": [
            "['Moreen', 'Parul']\n"
          ]
        }
      ]
    },
    {
      "cell_type": "code",
      "source": [
        "len(contact_book)\n"
      ],
      "metadata": {
        "colab": {
          "base_uri": "https://localhost:8080/"
        },
        "id": "4z7F-VtTcVat",
        "outputId": "09270813-8c01-46a1-d0c4-2bbcc015adc9"
      },
      "execution_count": 19,
      "outputs": [
        {
          "output_type": "execute_result",
          "data": {
            "text/plain": [
              "9"
            ]
          },
          "metadata": {},
          "execution_count": 19
        }
      ]
    },
    {
      "cell_type": "code",
      "metadata": {
        "id": "CjUXe6vG-SeJ",
        "colab": {
          "base_uri": "https://localhost:8080/"
        },
        "outputId": "d8372462-8928-4d9c-ad9d-cfc44f9ec50e"
      },
      "source": [
        "# Display the total no. of contacts left in the dictionary.\n",
        "\n",
        "print(\"There are\", str(len(contact_book)), \"contacts in the contact book. \")\n",
        "\n",
        "print(contact_book)"
      ],
      "execution_count": 16,
      "outputs": [
        {
          "output_type": "stream",
          "name": "stdout",
          "text": [
            "There are 9 contacts in the contact book. \n",
            "{'Moreen': 'moreen@moringa.org', 'Parul': 'parul@moringa.org', 'Thomas': 'thomas@moringa.org', 'Ashley': 'ashley@moringa.org', 'Kellen': 'kellen@moringa.org', 'June': 'june@moringa.org', 'Joseph': 'joe@moringa.org', 'Lillian': 'lillian@moringa.org', 'Arnold': 'arnold@moringa.org'}\n"
          ]
        }
      ]
    },
    {
      "cell_type": "code",
      "metadata": {
        "colab": {
          "base_uri": "https://localhost:8080/"
        },
        "id": "3IcKbVMMHV9K",
        "outputId": "3ffacef3-0013-40f7-f721-970030a13ee1"
      },
      "source": [
        "# Add 2 new contacts in the dictionary. \n",
        "\n",
        "new_contact_1 = str(input(\"Enter name of new contact 1: \"))\n",
        "email_contact_1 = new_contact_1.lower() + \"@moringa.org\"\n",
        "print(email_contact_1)\n",
        "\n",
        "new_contact_2 = str(input(\"Enter name of new contact 2: \"))\n",
        "email_contact_2 = (new_contact_2.lower() + \"@moringa.org\") \n",
        "print(email_contact_2)K\n",
        "\n",
        "contact_book[new_contact_1] = email_contact_1\n",
        "contact_book[new_contact_2] = email_contact_2\n",
        "print(contact_book)"
      ],
      "execution_count": 22,
      "outputs": [
        {
          "output_type": "stream",
          "name": "stdout",
          "text": [
            "Enter name of new contact 1: WILL\n",
            "will@moringa.org\n",
            "Enter name of new contact 2: YRA\n",
            "yra@moringa.org\n",
            "{'Moreen': 'moreen@moringa.org', 'Parul': 'parul@moringa.org', 'Thomas': 'thomas@moringa.org', 'Ashley': 'ashley@moringa.org', 'Kellen': 'kellen@moringa.org', 'June': 'june@moringa.org', 'Joseph': 'joe@moringa.org', 'Lillian': 'lillian@moringa.org', 'Arnold': 'arnold@moringa.org', 'WILL': 'will@moringa.org', 'KYRA': 'kyra@moringa.org', 'YRA': 'yra@moringa.org'}\n"
          ]
        }
      ]
    },
    {
      "cell_type": "code",
      "metadata": {
        "colab": {
          "base_uri": "https://localhost:8080/"
        },
        "id": "XgTYHPz0LhqQ",
        "outputId": "9ee71b6a-09e0-4f2b-8c36-207cebcc082e"
      },
      "source": [
        "# Print out all the contacts.\n",
        "\n",
        "print(contact_book)"
      ],
      "execution_count": 23,
      "outputs": [
        {
          "output_type": "stream",
          "name": "stdout",
          "text": [
            "{'Moreen': 'moreen@moringa.org', 'Parul': 'parul@moringa.org', 'Thomas': 'thomas@moringa.org', 'Ashley': 'ashley@moringa.org', 'Kellen': 'kellen@moringa.org', 'June': 'june@moringa.org', 'Joseph': 'joe@moringa.org', 'Lillian': 'lillian@moringa.org', 'Arnold': 'arnold@moringa.org', 'WILL': 'will@moringa.org', 'KYRA': 'kyra@moringa.org', 'YRA': 'yra@moringa.org'}\n"
          ]
        }
      ]
    }
  ]
}